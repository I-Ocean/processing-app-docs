{
 "metadata": {
  "language_info": {
   "codemirror_mode": {
    "name": "ipython",
    "version": 3
   },
   "file_extension": ".py",
   "mimetype": "text/x-python",
   "name": "python",
   "nbconvert_exporter": "python",
   "pygments_lexer": "ipython3",
   "version": "3.8.8"
  },
  "orig_nbformat": 2,
  "kernelspec": {
   "name": "python3",
   "display_name": "Python 3"
  },
  "metadata": {
   "interpreter": {
    "hash": "64f72062a0cf01cf3a7b6bfff2dd2d8fd1b058fae0394e2a6a7d45c3c8d9ee5a"
   }
  }
 },
 "nbformat": 4,
 "nbformat_minor": 2,
 "cells": [
  {
   "source": [
    "# Installation\n",
    "\n",
    "The I/Ocean Ocean Processing Python package is installed using *PIP*, a package manager for Python packages, or modules.\n",
    "\n"
   ],
   "cell_type": "markdown",
   "metadata": {}
  },
  {
   "source": [
    "## Check if *PIP* is installed\n",
    "Check if *PIP* is installed.\n",
    "\n",
    "From the command line of your terminal you use to run Python:\n",
    "\n",
    "```\n",
    ">pip --version\n",
    "```\n",
    "\n",
    "## Install *PIP*\n",
    "\n",
    "If you do not have PIP installed:\n",
    "\n",
    "```\n",
    ">pip install pip\n",
    "```\n"
   ],
   "cell_type": "markdown",
   "metadata": {}
  },
  {
   "source": [
    "## Install the I/Ocean Python package\n",
    "\n",
    "```\n",
    ">pip install iocean\n",
    "```"
   ],
   "cell_type": "markdown",
   "metadata": {}
  },
  {
   "source": [
    "## Check the installation"
   ],
   "cell_type": "markdown",
   "metadata": {}
  },
  {
   "source": [
    "import iocean\n",
    "print(iocean.__doc__)\n"
   ],
   "cell_type": "code",
   "metadata": {},
   "execution_count": 4,
   "outputs": [
    {
     "output_type": "stream",
     "name": "stdout",
     "text": [
      "i-ocean Python package.\n"
     ]
    }
   ]
  }
 ]
}