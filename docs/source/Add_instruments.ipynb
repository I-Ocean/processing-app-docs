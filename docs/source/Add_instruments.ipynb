{
 "metadata": {
  "language_info": {
   "codemirror_mode": {
    "name": "ipython",
    "version": 3
   },
   "file_extension": ".py",
   "mimetype": "text/x-python",
   "name": "python",
   "nbconvert_exporter": "python",
   "pygments_lexer": "ipython3",
   "version": "3.8.8"
  },
  "orig_nbformat": 2,
  "kernelspec": {
   "name": "python3",
   "display_name": "Python 3"
  }
 },
 "nbformat": 4,
 "nbformat_minor": 2,
 "cells": [
  {
   "source": [
    "# Add instrument\n",
    "\n",
    "Adds an instrument group to one or more NetCDF files. It returns new NetCDF files and corresponding NCCSV formats."
   ],
   "cell_type": "markdown",
   "metadata": {}
  },
  {
   "source": [
    "## Getting started\n",
    "\n",
    "Import and instantiate the object:"
   ],
   "cell_type": "markdown",
   "metadata": {}
  },
  {
   "cell_type": "code",
   "execution_count": null,
   "metadata": {},
   "outputs": [],
   "source": [
    "from iocean import OceanProcessing\n",
    "op = OceanProcessing()"
   ]
  },
  {
   "source": [
    "Set the input parameters:"
   ],
   "cell_type": "markdown",
   "metadata": {}
  },
  {
   "cell_type": "code",
   "execution_count": null,
   "metadata": {},
   "outputs": [],
   "source": [
    "name = \"inst_0016\"\n",
    "instrument_id = \"Sea-Bird SBE 38 thermometer s/n 26453-4647\"\n",
    "model_id = \"http://vocab.nerc.ac.uk/collection/L22/current/TOOL0191/\"\n",
    "serial_number = \"26453-4647\"\n",
    "\n",
    "attributes = {\n",
    "    \"date_valid_from\":\"2020-12-01\",\n",
    "    \"calibration\":\"/calibrations/cal_008\"\n",
    "    }\n",
    "\n",
    "files = [\n",
    "    r\"netcdf\\20200117-000000-iocean_raw_60sec.nc\",\n",
    "    r\"netcdf\\20200118-000000-iocean_raw_60sec.nc\",\n",
    "    r\"netcdf\\20200119-000000-iocean_raw_60sec.nc\"\n",
    "]  "
   ]
  },
  {
   "source": [
    "**NOTE**\n",
    "\n",
    "*Syntax for writing filepaths.*\n",
    "\n",
    "In windows:\n",
    "\n",
    "```\n",
    "files = [\n",
    "    \"C:\\\\Users\\\\freddie\\\\Documents\\\\Projects\\\\iocean\\\\netcdf\\\\20200117-000000-iocean_raw_60sec.nc\",\n",
    "    \"C:\\\\Users\\\\freddie\\\\Documents\\\\Projects\\\\iocean\\\\netcdf\\\\20200118-000000-iocean_raw_60sec.nc\"   \n",
    "]\n",
    "```"
   ],
   "cell_type": "markdown",
   "metadata": {}
  },
  {
   "source": [
    "Add the instrument:"
   ],
   "cell_type": "markdown",
   "metadata": {}
  },
  {
   "cell_type": "code",
   "execution_count": null,
   "metadata": {},
   "outputs": [],
   "source": [
    "op.add_instrument(files, name, instrument_id, model_id, serial_number, attributes)"
   ]
  },
  {
   "source": [
    "## Usage"
   ],
   "cell_type": "markdown",
   "metadata": {}
  },
  {
   "source": [
    "\n",
    "**OceanProcessing().add_instrument**(files: list, name: str, instrument_id: str, model_id: str, serial_number: str, attributes: dict = None) -> list\n",
    "\n",
    "Adds a new instrument group to an I/Ocean NetCDF file or set of files.\n",
    "\n",
    "**Parameters:**\n",
    "\n",
    "**files** : *list*\n",
    "\n",
    "> A list of paths to one or more NetCDF files.\n",
    "\n",
    "**name** : *str*\n",
    "\n",
    "> The name of the intrument group to be added to the NetCDF file. Cannot contain spaces.\n",
    "\n",
    "**instrument_id** : *str*\n",
    "\n",
    "> Plain language name for the instrument.\n",
    "\n",
    "**model_id** : *str*\n",
    "\n",
    "> URI identifier of the instrument model design taken from vocabulary collection http://vocab.nerc.ac.uk/collection/L22/current/. e.g. model_id = \"http://vocab.nerc.ac.uk/collection/L22/current/TOOL0191/\"\n",
    "\n",
    "\n",
    "\n",
    "**serial_number** : *str*\n",
    "\n",
    "> The serial number fo the instrument. A serial number is a number assigned to each instrument instance that enables a producer to distinguish a product from all others produced to the same design.\n",
    "\n",
    "\n",
    "**attributes** : *dict*\n",
    "\n",
    "> A json dictionary of the group attributes. The json dictionary contains attribute name-value pairs. e.g. attributes = {\"date_valid_from\":\"2020-12-01\",\"calibration\":\"/calibrations/cal_008\"}\n",
    "\n",
    "> The following attributes are valid (NetCDF minimal specification):\n",
    "\n",
    ">\n",
    "Attribute | Description\n",
    ":--- | :---\n",
    "**date_valid_from** : *str* | The date the instrument information is valid, usually commissioning date. \n",
    "**calibration** : *str* | The path to the calibration group in the NetCDF file.\n",
    "\n",
    "\n",
    "\n",
    "\n",
    "\n",
    "\n",
    "\n",
    "\n",
    "\n"
   ],
   "cell_type": "markdown",
   "metadata": {}
  }
 ]
}