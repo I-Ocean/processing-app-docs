{
 "metadata": {
  "language_info": {
   "codemirror_mode": {
    "name": "ipython",
    "version": 3
   },
   "file_extension": ".py",
   "mimetype": "text/x-python",
   "name": "python",
   "nbconvert_exporter": "python",
   "pygments_lexer": "ipython3",
   "version": "3.9.4"
  },
  "orig_nbformat": 2,
  "kernelspec": {
   "name": "python3",
   "language": "python",
   "display_name": "Python 3"
  },
  "metadata": {
   "interpreter": {
    "hash": "4cb68cb46bde870b9c84a697f427aef7b3fdcda7b9ad21980636043a357b1bd2"
   }
  }
 },
 "nbformat": 4,
 "nbformat_minor": 2,
 "cells": [
  {
   "source": [
    "# Common dictionaries\n",
    "\n",
    "Lookup tables to validate and create variables and attributes according to I/Ocean conventions. Dictionaries are sourced from CSV files within the I/Ocean Python processing package and loaded into Python for referencing.\n",
    "\n",
    "## Getting started\n",
    "Importing and instantiate the object\n",
    "\n"
   ],
   "cell_type": "markdown",
   "metadata": {}
  },
  {
   "cell_type": "code",
   "execution_count": null,
   "metadata": {},
   "outputs": [],
   "source": [
    "from iocean.common_dictionaries.dictionaries import Dictionary\n",
    "d = Dictionary()\n",
    "print(d)"
   ]
  },
  {
   "source": [
    "## Usage\n"
   ],
   "cell_type": "markdown",
   "metadata": {}
  },
  {
   "cell_type": "code",
   "execution_count": null,
   "metadata": {},
   "outputs": [],
   "source": [
    "d = Dictionary()                # instantiate Dictionary object\n",
    "print(d)"
   ]
  },
  {
   "cell_type": "code",
   "execution_count": null,
   "metadata": {},
   "outputs": [],
   "source": [
    "d.list_dictionaries             # lists the available dictionaries\n",
    "print(d)"
   ]
  },
  {
   "cell_type": "code",
   "execution_count": null,
   "metadata": {},
   "outputs": [],
   "source": [
    "d.get_configuration()           # get configuration information\n",
    "print(d)"
   ]
  },
  {
   "cell_type": "code",
   "execution_count": null,
   "metadata": {},
   "outputs": [],
   "source": [
    "d.get_dictionaries()            # get all common dictionaries metadata\n",
    "print(d)"
   ]
  },
  {
   "cell_type": "code",
   "execution_count": null,
   "metadata": {},
   "outputs": [],
   "source": [
    "dict_in = \"CalibrationAttributes\"\n",
    "d.get_dictionary(dict_in)       # Creates a dictionary object\n",
    "print(d)"
   ]
  },
  {
   "source": [
    "## Get dictionaries\n",
    "List the available dictionaries:\n"
   ],
   "cell_type": "markdown",
   "metadata": {}
  },
  {
   "cell_type": "code",
   "execution_count": null,
   "metadata": {},
   "outputs": [],
   "source": [
    "d.list_dictionaries"
   ]
  },
  {
   "source": [
    "View a dictionary:"
   ],
   "cell_type": "markdown",
   "metadata": {}
  },
  {
   "cell_type": "code",
   "execution_count": null,
   "metadata": {},
   "outputs": [],
   "source": [
    "dict_in = \"InstrumentVariables\"\n",
    "df = d.get_dictionaries()[dict_in]\n",
    "df"
   ]
  },
  {
   "source": [
    "## Working with variable-type dictionaries\n",
    "Variable dictionaries are identified by *XXXXXVariables*. The reference global or group variables and their associated attributes.\n",
    "\n",
    "Get a variable (returns an object):"
   ],
   "cell_type": "markdown",
   "metadata": {}
  },
  {
   "cell_type": "code",
   "execution_count": null,
   "metadata": {},
   "outputs": [],
   "source": [
    "dict_in = \"DataVariables\"\n",
    "var_in = \"TIME\"\n",
    "\n",
    "cv = d.get_dictionary(dict_in, netcdf_variable_id=var_in)"
   ]
  },
  {
   "source": [
    "Get variable properties:"
   ],
   "cell_type": "markdown",
   "metadata": {}
  },
  {
   "cell_type": "code",
   "execution_count": null,
   "metadata": {},
   "outputs": [],
   "source": [
    "cv.dimensions # get a variable's dimensions"
   ]
  },
  {
   "cell_type": "code",
   "execution_count": null,
   "metadata": {},
   "outputs": [],
   "source": [
    "cv.datatype # get variable's datatype"
   ]
  },
  {
   "cell_type": "code",
   "execution_count": null,
   "metadata": {},
   "outputs": [],
   "source": [
    "cv.attributes # get a variable's attributes"
   ]
  },
  {
   "source": [
    "Get a variable including empty attributes:"
   ],
   "cell_type": "markdown",
   "metadata": {}
  },
  {
   "cell_type": "code",
   "execution_count": null,
   "metadata": {},
   "outputs": [],
   "source": [
    "cv = d.get_dictionary(dict_in, netcdf_variable_id=var_in, include_empty_attribute_values=True)\n",
    "cv.attributes"
   ]
  },
  {
   "source": [
    "## Working with attribute-type dictionaries\n",
    "Attribute dictionaries are identified by *XXXXXAttributes*. They reference global or group attributes.\n",
    "\n",
    "Get global or a group's attributes (returns an object):"
   ],
   "cell_type": "markdown",
   "metadata": {}
  },
  {
   "cell_type": "code",
   "execution_count": null,
   "metadata": {},
   "outputs": [],
   "source": [
    "dict_in = \"GlobalAttributes\"\n"
   ]
  },
  {
   "source": [
    "Get attributes:"
   ],
   "cell_type": "markdown",
   "metadata": {}
  },
  {
   "cell_type": "code",
   "execution_count": null,
   "metadata": {},
   "outputs": [],
   "source": [
    "ca = d.get_dictionary(dict_in)\n",
    "ca.attributes"
   ]
  },
  {
   "source": [
    "Get global or a group's attributes including empty attributes:"
   ],
   "cell_type": "markdown",
   "metadata": {}
  },
  {
   "cell_type": "code",
   "execution_count": null,
   "metadata": {},
   "outputs": [],
   "source": [
    "ca = d.get_dictionary(dict_in, include_empty_attribute_values=True)\n",
    "ca.attributes"
   ]
  },
  {
   "source": [
    "## Check a global NetCDF variable exists"
   ],
   "cell_type": "markdown",
   "metadata": {}
  },
  {
   "cell_type": "code",
   "execution_count": null,
   "metadata": {},
   "outputs": [],
   "source": [
    "d.exists(netcdf_variable_id=\"flow\")"
   ]
  },
  {
   "source": [
    "## Check an attribute of a global variable exists"
   ],
   "cell_type": "markdown",
   "metadata": {}
  },
  {
   "cell_type": "code",
   "execution_count": null,
   "metadata": {},
   "outputs": [],
   "source": [
    "d.exists(netcdf_variable_id=\"flow\", attribute=\"long_name\")"
   ]
  }
 ]
}