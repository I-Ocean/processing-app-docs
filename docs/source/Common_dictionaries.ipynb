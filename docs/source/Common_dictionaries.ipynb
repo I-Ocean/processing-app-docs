{
 "metadata": {
  "language_info": {
   "codemirror_mode": {
    "name": "ipython",
    "version": 3
   },
   "file_extension": ".py",
   "mimetype": "text/x-python",
   "name": "python",
   "nbconvert_exporter": "python",
   "pygments_lexer": "ipython3",
   "version": "3.8.8"
  },
  "orig_nbformat": 2,
  "kernelspec": {
   "name": "python3",
   "display_name": "Python 3"
  },
  "metadata": {
   "interpreter": {
    "hash": "64f72062a0cf01cf3a7b6bfff2dd2d8fd1b058fae0394e2a6a7d45c3c8d9ee5a"
   }
  }
 },
 "nbformat": 4,
 "nbformat_minor": 2,
 "cells": [
  {
   "source": [
    "# Common dictionaries\n",
    "\n",
    "Lookup tables to validate and create variables and attributes according to I/Ocean conventions. Dictionaries are sourced from CSV files within the I/Ocean Python processing package and loaded into Python for referencing.\n",
    "\n",
    "## Getting started\n",
    "Importing and instantiate the object\n",
    "\n"
   ],
   "cell_type": "markdown",
   "metadata": {}
  },
  {
   "cell_type": "code",
   "execution_count": null,
   "metadata": {},
   "outputs": [],
   "source": [
    "from iocean.common_dictionaries.dictionaries import Dictionary\n",
    "d = Dictionary()\n",
    "print(d)"
   ]
  },
  {
   "source": [
    "## Get dictionaries\n",
    "List the available dictionaries:\n"
   ],
   "cell_type": "markdown",
   "metadata": {}
  },
  {
   "cell_type": "code",
   "execution_count": null,
   "metadata": {},
   "outputs": [],
   "source": [
    "d.list_dictionaries"
   ]
  },
  {
   "source": [
    "View a dictionary:"
   ],
   "cell_type": "markdown",
   "metadata": {}
  },
  {
   "cell_type": "code",
   "execution_count": null,
   "metadata": {},
   "outputs": [],
   "source": [
    "dict_in = \"InstrumentVariables\"\n",
    "df = d.get_dictionaries()[dict_in]\n",
    "df"
   ]
  },
  {
   "source": [
    "## Variable-type dictionaries\n",
    "Variable dictionaries are identified by *XXXXXVariables*. The reference global or group variables and their associated attributes.\n",
    "\n",
    "Get a variable (returns an object):"
   ],
   "cell_type": "markdown",
   "metadata": {}
  },
  {
   "cell_type": "code",
   "execution_count": null,
   "metadata": {},
   "outputs": [],
   "source": [
    "dict_in = \"DataVariables\"\n",
    "var_in = \"TIME\"\n",
    "\n",
    "cv = d.get_dictionary(dict_in, netcdf_variable_id=var_in)"
   ]
  },
  {
   "source": [
    "Get variable properties:"
   ],
   "cell_type": "markdown",
   "metadata": {}
  },
  {
   "cell_type": "code",
   "execution_count": null,
   "metadata": {},
   "outputs": [],
   "source": [
    "cv.dimensions # get a variable's dimensions"
   ]
  },
  {
   "cell_type": "code",
   "execution_count": null,
   "metadata": {},
   "outputs": [],
   "source": [
    "cv.datatype # get variable's datatype"
   ]
  },
  {
   "cell_type": "code",
   "execution_count": null,
   "metadata": {},
   "outputs": [],
   "source": [
    "cv.attributes # get a variable's attributes"
   ]
  },
  {
   "source": [
    "Get a variable including empty attributes:"
   ],
   "cell_type": "markdown",
   "metadata": {}
  },
  {
   "cell_type": "code",
   "execution_count": null,
   "metadata": {},
   "outputs": [],
   "source": [
    "cv = d.get_dictionary(dict_in, netcdf_variable_id=var_in, include_empty_attribute_values=True)\n",
    "cv.attributes"
   ]
  },
  {
   "source": [
    "## Attribute-type dictionaries\n",
    "Attribute dictionaries are identified by *XXXXXAttributes*. They reference global or group attributes.\n",
    "\n",
    "Get global or a group's attributes (returns an object):"
   ],
   "cell_type": "markdown",
   "metadata": {}
  },
  {
   "cell_type": "code",
   "execution_count": null,
   "metadata": {},
   "outputs": [],
   "source": [
    "dict_in = \"GlobalAttributes\"\n"
   ]
  },
  {
   "source": [
    "Get attributes:"
   ],
   "cell_type": "markdown",
   "metadata": {}
  },
  {
   "cell_type": "code",
   "execution_count": null,
   "metadata": {},
   "outputs": [],
   "source": [
    "ca = d.get_dictionary(dict_in)\n",
    "ca.attributes"
   ]
  },
  {
   "source": [
    "Get global or a group's attributes including empty attributes:"
   ],
   "cell_type": "markdown",
   "metadata": {}
  },
  {
   "cell_type": "code",
   "execution_count": null,
   "metadata": {},
   "outputs": [],
   "source": [
    "ca = d.get_dictionary(dict_in, include_empty_attribute_values=True)\n",
    "ca.attributes"
   ]
  },
  {
   "source": [
    "## Check exists\n",
    "\n",
    "Check a global NetCDF variable exists:"
   ],
   "cell_type": "markdown",
   "metadata": {}
  },
  {
   "cell_type": "code",
   "execution_count": null,
   "metadata": {},
   "outputs": [],
   "source": [
    "d.exists(netcdf_variable_id=\"flow\")"
   ]
  },
  {
   "source": [
    "Check an attribute of a global NetCDF variable exists"
   ],
   "cell_type": "markdown",
   "metadata": {}
  },
  {
   "cell_type": "code",
   "execution_count": null,
   "metadata": {},
   "outputs": [],
   "source": [
    "d.exists(netcdf_variable_id=\"flow\", attribute=\"long_name\")"
   ]
  },
  {
   "source": [
    "## Usage"
   ],
   "cell_type": "markdown",
   "metadata": {}
  },
  {
   "source": [
    "**Dictionary**()\n",
    "\n",
    "Instantiates the Dictionary class\n",
    "\n",
    "```\n",
    "d = Dictionary()\n",
    "```"
   ],
   "cell_type": "markdown",
   "metadata": {}
  },
  {
   "source": [
    "**list_dictionaries**\n",
    "\n",
    "Lists the available dictionaries\n",
    "\n",
    "```\n",
    "d.list_dictionaries\n",
    "```"
   ],
   "cell_type": "markdown",
   "metadata": {}
  },
  {
   "source": [
    "**get_configuration**() -> dict\n",
    "\n",
    "Get configuration information for *common_dictionaries* module\n",
    "\n",
    "\n",
    "```\n",
    "d.get_configuration()\n",
    "```"
   ],
   "cell_type": "markdown",
   "metadata": {}
  },
  {
   "source": [
    "**get_dictionaries**() -> dict\n",
    "\n",
    "Get all common dictionaries\n",
    "\n",
    "```\n",
    "d.get_dictionaries() \n",
    "```"
   ],
   "cell_type": "markdown",
   "metadata": {}
  },
  {
   "source": [
    "**get_dictionary**(name: str, netcdf_variable_id: str = None, include_empty_attribute_values: bool = False)\n",
    "\n",
    "Creates a dictionary instance\n",
    "\n",
    "```\n",
    "d.get_dictionary(\"InstrumentVariables\")\n",
    "```"
   ],
   "cell_type": "markdown",
   "metadata": {}
  },
  {
   "source": [
    "**exists**(netcdf_variable_id: str, attribute: str = None)\n",
    "\n",
    "Checks global variables and attributes exists\n",
    "\n",
    "```\n",
    "d.exists(netcdf_variable_id=\"flow\")\n",
    "```\n",
    "```\n",
    "d.exists(netcdf_variable_id=\"flow\", attribute=\"long_name\")\n",
    "```\n",
    "\n"
   ],
   "cell_type": "markdown",
   "metadata": {}
  }
 ]
}