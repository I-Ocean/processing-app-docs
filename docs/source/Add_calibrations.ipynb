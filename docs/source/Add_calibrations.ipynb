{
 "metadata": {
  "language_info": {
   "codemirror_mode": {
    "name": "ipython",
    "version": 3
   },
   "file_extension": ".py",
   "mimetype": "text/x-python",
   "name": "python",
   "nbconvert_exporter": "python",
   "pygments_lexer": "ipython3",
   "version": "3.8.8"
  },
  "orig_nbformat": 2,
  "kernelspec": {
   "name": "python3",
   "display_name": "Python 3"
  }
 },
 "nbformat": 4,
 "nbformat_minor": 2,
 "cells": [
  {
   "source": [
    "# Add calibration\n",
    "\n",
    "Adds a calibration group to one or more NetCDF files. It returns new NetCDF files and corresponding NCCSV formats."
   ],
   "cell_type": "markdown",
   "metadata": {}
  },
  {
   "source": [
    "## Getting started\n",
    "\n",
    "Import and instantiate the object:"
   ],
   "cell_type": "markdown",
   "metadata": {}
  },
  {
   "cell_type": "code",
   "execution_count": null,
   "metadata": {},
   "outputs": [],
   "source": [
    "from iocean import OceanProcessing\n",
    "op = OceanProcessing()"
   ]
  },
  {
   "source": [
    "Set the input parameters:"
   ],
   "cell_type": "markdown",
   "metadata": {}
  },
  {
   "cell_type": "code",
   "execution_count": null,
   "metadata": {},
   "outputs": [],
   "source": [
    "name =   \"cal_010\"\n",
    "output_units = \"Milligrams per cubic metre\"\n",
    "output_units_id = \"http://vocab.nerc.ac.uk/collection/P06/current/UMMC/\"\n",
    "\n",
    "attributes = {\n",
    "    \"date_valid_from\":\"2021-03-25\", \n",
    "    \"date_valid_to\": \"2022-09-19\", \n",
    "    \"instrument_first_use\": \"2021-06-20\"\n",
    "    }\n",
    "\n",
    "calibration_coefficients = {\n",
    "    \"SF\":11.4,\n",
    "    \"CWO\":0.05\n",
    "    }\n",
    "\n",
    "# Note: files are written using their relative path 'r' in Python syntax. See note below:\n",
    "files = [\n",
    "    r\"netcdf\\20200117-000000-iocean_raw_60sec.nc\",\n",
    "    r\"netcdf\\20200118-000000-iocean_raw_60sec.nc\",\n",
    "    r\"netcdf\\20200119-000000-iocean_raw_60sec.nc\"\n",
    "]  \n",
    "\n"
   ]
  },
  {
   "source": [
    "**NOTE**\n",
    "\n",
    "*Syntax for writing filepaths.*\n",
    "\n",
    "In windows:\n",
    "\n",
    "```\n",
    "files = [\n",
    "    \"C:\\\\Users\\\\freddie\\\\Documents\\\\Projects\\\\iocean\\\\netcdf\\\\20200117-000000-iocean_raw_60sec.nc\",\n",
    "    \"C:\\\\Users\\\\freddie\\\\Documents\\\\Projects\\\\iocean\\\\netcdf\\\\20200118-000000-iocean_raw_60sec.nc\"   \n",
    "]\n",
    "```"
   ],
   "cell_type": "markdown",
   "metadata": {}
  },
  {
   "source": [
    "Add the calibration:"
   ],
   "cell_type": "markdown",
   "metadata": {}
  },
  {
   "cell_type": "code",
   "execution_count": null,
   "metadata": {},
   "outputs": [],
   "source": [
    "op.add_calibration(files,output_units=output_units,output_units_id=output_units_id,calibration_coefficients=calibration_coefficients, attributes=attributes, name=name)"
   ]
  },
  {
   "source": [
    "## Usage"
   ],
   "cell_type": "markdown",
   "metadata": {}
  },
  {
   "source": [
    "\n",
    "**OceanProcessing().add_calibration**(files: list, name: str, output_units: str, output_units_id: str, calibration_coefficients: dict, attributes: dict = None) -> list\n",
    "\n",
    "Adds a new instrument group to an I/Ocean NetCDF file or set of files.\n",
    "\n",
    "**Parameters:**\n",
    "\n",
    "**files** : *list*\n",
    "\n",
    "> A list of paths to one or more NetCDF files.\n",
    "\n",
    "**name** : *str*\n",
    "\n",
    "> The name of the calibration group to be added to the NetCDF file. Cannot contain spaces.\n",
    "\n",
    "**output_units** : *str*\n",
    "\n",
    "> Units of the calibration result variable taken from the preferred label of vocabulary collection http://vocab.nerc.ac.uk/collection/P06/current/. e.g. output_units = \"per metre\"\n",
    "\n",
    "\n",
    "**output_units_id** : *str*\n",
    "\n",
    "> URI identifier of the output units taken from vocabulary collection http://vocab.nerc.ac.uk/collection/P06/current/. e.g. output_units_id = \"http://vocab.nerc.ac.uk/collection/P06/current/UPRM/\"\n",
    "\n",
    "\n",
    "\n",
    "**calibration_coefficients** : *dict*\n",
    "\n",
    "> The serial number fo the instrument. A serial number is a number assigned to each instrument instance that enables a producer to distinguish a product from all others produced to the same design.\n",
    "\n",
    "\n",
    "**attributes** : *dict* (Mandatory)\n",
    "\n",
    "> A mandatory JSON dictionary of the calibration coefficients. The JSON dictionary contains coefficient name-value pairs. e.g. calibration_coefficients = {\\\"Vd\\\" : 0.004, \\\"Vref\\\" : 4.700, \\\"pathlength\\\" : 25}\n",
    "\n",
    "> The following coefficients are valid:\n",
    "\n",
    "> \n",
    "Coefficent | Description\n",
    ":--- | :---\n",
    "*SF* | scale factor\n",
    "*CWO* | clean water offset\n",
    "*Vd* | dark or zero (blocked path) output\n",
    "*Vref* | output in pure water \n",
    "*Pathlength* | optical cell pathlength\n",
    "*outputs* | scale factor of light sensors (sensitivity)\n",
    "\n",
    "\n",
    "**attributes**: *dict*\n",
    "\n",
    "> A json dictionary of the group attributes. The json dictionary contains attribute name-value pairs. e.g. attributes = {\"date_valid_from\":\"2021-03-25\", \"date_valid_to\": \"2022-09-19\"}\n",
    "\n",
    "> The following attributes are valid (minimal specification):\n",
    "\n",
    "> \n",
    "Attribute | Description\n",
    ":--- | :---\n",
    "**date_valid_from** : *str* | The date the calibration is valid, e.g. manufacturer calibration date. \n",
    "**date_valid_to** : *str* | Date calibration valid to.\n",
    "**instrument_first_use** : *str* | The date the calibration instance was first used which may affect the date_valid_from and date_valid_to properties of an instrument calibration. For example, a manufacturer may calibrate an instrument to remove bias but the instrument is not used until several months after calibration, thus extending the calibration life.\n",
    "\n",
    "\n",
    "\n",
    "\n",
    "\n",
    "\n",
    "\n"
   ],
   "cell_type": "markdown",
   "metadata": {}
  }
 ]
}